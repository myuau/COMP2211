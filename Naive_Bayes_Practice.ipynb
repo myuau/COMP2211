{
  "nbformat": 4,
  "nbformat_minor": 0,
  "metadata": {
    "colab": {
      "provenance": []
    },
    "kernelspec": {
      "name": "python3",
      "display_name": "Python 3"
    },
    "language_info": {
      "name": "python"
    }
  },
  "cells": [
    {
      "cell_type": "code",
      "execution_count": 7,
      "metadata": {
        "colab": {
          "base_uri": "https://localhost:8080/"
        },
        "id": "XNh0DdmGwcgL",
        "outputId": "eb687530-ab57-4ff5-a60d-6703311a4d83"
      },
      "outputs": [
        {
          "output_type": "stream",
          "name": "stdout",
          "text": [
            "[1] [[0.28318584 0.71681416]]\n"
          ]
        }
      ],
      "source": [
        "import numpy as np\n",
        "from sklearn.naive_bayes import CategoricalNB\n",
        "\n",
        "training = np.array([[0,1,0],[0,2,1],[1,0,1],[2,2,1],\n",
        "                     [2,0,2],[2,2,0],[1,2,2],[0,0,2],\n",
        "                     [0,1,2],[2,1,1],[0,0,0],[1,1,0],\n",
        "                     [1,0,2],[2,2,1]])\n",
        "\n",
        "outcome = np.array([1,0,1,1,0,1,0,1,1,0,1,0,0,1])\n",
        "\n",
        "new_sample = np.array([[2,1,0]])\n",
        "\n",
        "clf = CategoricalNB(alpha=1.0e-10).fit(training, outcome)\n",
        "pred_class = clf.predict(new_sample);  prob = clf.predict_proba(new_sample)\n",
        "\n",
        "print(pred_class, prob)"
      ]
    }
  ]
}